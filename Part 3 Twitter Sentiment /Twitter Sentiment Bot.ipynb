{
 "cells": [
  {
   "cell_type": "code",
   "execution_count": 1,
   "metadata": {},
   "outputs": [],
   "source": [
    "import time\n",
    "import matplotlib.pyplot as plt\n",
    "import pandas as pd\n",
    "import tweepy\n",
    "import seaborn as sns\n",
    "import datetime\n",
    "from vaderSentiment.vaderSentiment import SentimentIntensityAnalyzer\n"
   ]
  },
  {
   "cell_type": "code",
   "execution_count": 2,
   "metadata": {},
   "outputs": [],
   "source": [
    "analyzer = SentimentIntensityAnalyzer()\n",
    "\n",
    "# Twitter API Keys\n",
    "from config import (consumer_key, \n",
    "                    consumer_secret, \n",
    "                    access_token, \n",
    "                    access_token_secret)\n",
    "#Twitter Credentials\n",
    "auth = tweepy.OAuthHandler(consumer_key, consumer_secret)\n",
    "auth.set_access_token(access_token, access_token_secret)\n",
    "api = tweepy.API(auth, parser=tweepy.parsers.JSONParser())\n",
    "\n",
    "user_history = []"
   ]
  },
  {
   "cell_type": "code",
   "execution_count": 3,
   "metadata": {},
   "outputs": [
    {
     "name": "stdout",
     "output_type": "stream",
     "text": [
      "['@AdamSandler']\n",
      "@AdamSandler\n",
      "   neg    neu    pos  compound\n",
      "0  0.0  1.000  0.000    0.0000\n",
      "1  0.0  0.646  0.354    0.5904\n",
      "2  0.0  1.000  0.000    0.0000\n",
      "3  0.0  0.711  0.289    0.6908\n",
      "4  0.0  1.000  0.000    0.0000\n",
      "499\n",
      "['@AdamSandler', '@DitaVonTeese']\n",
      "@DitaVonTeese\n",
      "   neg    neu    pos  compound\n",
      "0  0.0  1.000  0.000    0.0000\n",
      "1  0.0  0.646  0.354    0.5904\n",
      "2  0.0  1.000  0.000    0.0000\n",
      "3  0.0  0.711  0.289    0.6908\n",
      "4  0.0  1.000  0.000    0.0000\n",
      "999\n"
     ]
    },
    {
     "ename": "IndexError",
     "evalue": "list index out of range",
     "output_type": "error",
     "traceback": [
      "\u001b[0;31m---------------------------------------------------------------------------\u001b[0m",
      "\u001b[0;31mIndexError\u001b[0m                                Traceback (most recent call last)",
      "\u001b[0;32m<ipython-input-3-0d722736ead8>\u001b[0m in \u001b[0;36m<module>\u001b[0;34m\u001b[0m\n\u001b[1;32m     14\u001b[0m \u001b[0;34m\u001b[0m\u001b[0m\n\u001b[1;32m     15\u001b[0m         \u001b[0;31m# Get ID and author of most recent tweet directed to me\u001b[0m\u001b[0;34m\u001b[0m\u001b[0;34m\u001b[0m\u001b[0;34m\u001b[0m\u001b[0m\n\u001b[0;32m---> 16\u001b[0;31m         \u001b[0mtarget_user\u001b[0m \u001b[0;34m=\u001b[0m \u001b[0mtweet\u001b[0m\u001b[0;34m[\u001b[0m\u001b[0;34m'text'\u001b[0m\u001b[0;34m]\u001b[0m\u001b[0;34m.\u001b[0m\u001b[0msplit\u001b[0m\u001b[0;34m(\u001b[0m\u001b[0;34m\": \"\u001b[0m\u001b[0;34m)\u001b[0m\u001b[0;34m[\u001b[0m\u001b[0;36m1\u001b[0m\u001b[0;34m]\u001b[0m\u001b[0;34m\u001b[0m\u001b[0;34m\u001b[0m\u001b[0m\n\u001b[0m\u001b[1;32m     17\u001b[0m \u001b[0;34m\u001b[0m\u001b[0m\n\u001b[1;32m     18\u001b[0m         \u001b[0;32mif\u001b[0m \u001b[0mtarget_user\u001b[0m \u001b[0;32min\u001b[0m \u001b[0muser_history\u001b[0m\u001b[0;34m:\u001b[0m\u001b[0;34m\u001b[0m\u001b[0;34m\u001b[0m\u001b[0m\n",
      "\u001b[0;31mIndexError\u001b[0m: list index out of range"
     ]
    },
    {
     "data": {
      "text/plain": [
       "<Figure size 432x288 with 0 Axes>"
      ]
     },
     "metadata": {},
     "output_type": "display_data"
    }
   ],
   "source": [
    "# Create sentiment_function\n",
    "while True:\n",
    "    \n",
    "    # Target Term\n",
    "    search_term = \"@theBadChai Analyze: \"\n",
    "    sentiments = []\n",
    "    now = datetime.datetime.now()\n",
    "\n",
    "    # Search for all tweets\n",
    "    public_tweets = api.search(search_term, count=3, result_type=\"recent\")\n",
    "\n",
    "    # Loop through all tweets\n",
    "    for tweet in public_tweets[\"statuses\"]:\n",
    "\n",
    "        # Get ID and author of most recent tweet directed to me\n",
    "        target_user = tweet['text'].split(\": \")[1]\n",
    "        \n",
    "        if target_user in user_history:\n",
    "\n",
    "            print(\"Analysis Incomplete: User already exists.\")\n",
    "\n",
    "        else:\n",
    "\n",
    "            user_history.append(target_user)\n",
    "            print(user_history)\n",
    "            print(target_user)\n",
    "\n",
    "            for x in range(5):\n",
    "\n",
    "                # Get all tweets from home feed\n",
    "                target_tweets = api.user_timeline(target_user, count=100, result_type=\"recent\", page=x+1)\n",
    "\n",
    "                # Loop through all tweets\n",
    "                for target in target_tweets:\n",
    "\n",
    "                    text = target['text']\n",
    "\n",
    "                    # Run Vader Analysis on each tweet\n",
    "                    scores = analyzer.polarity_scores(text)\n",
    "\n",
    "                    # Add dictionary of scores to the `sentiments` list\n",
    "                    sentiments.append(scores)\n",
    "\n",
    "            sns.set()\n",
    "\n",
    "            sentiments_df = pd.DataFrame(sentiments)\n",
    "            print(sentiments_df.head())\n",
    "            print(len(sentiments_df))\n",
    "\n",
    "            # Plot compound sentiment\n",
    "            sentiments_df['compound'].plot(marker='o', linewidth=1, label=target_user)\n",
    "            plt.xlabel('Tweet Number')\n",
    "            plt.ylabel('Compound Score (higher is more positive')\n",
    "\n",
    "            # Plot line for average compound score\n",
    "            avg = sentiments_df['compound'].mean()\n",
    "            plt.hlines(avg, 0, len(sentiments), linewidth=1, linestyle='dotted', color='red')\n",
    "\n",
    "            plt.title(f'VADER sentiment analysis on {target_user} as of {now.strftime(\"%Y-%m-%d\")}')\n",
    "            plt.legend(title=\"Tweets\", loc='center left', bbox_to_anchor=(1, .5), fancybox=True, shadow=True,)\n",
    "\n",
    "            # Save graphic & post to twitter\n",
    "            plt.savefig('analysis.png', bbox_inches='tight')\n",
    "            plt.gcf().clear()\n",
    "            api.update_with_media('analysis.png',\n",
    "                      f'You asked and now receive! VADER Sentiment analysis of {target_user}')\n",
    "\n",
    "    print(\"Sleeping for 5 minutes.\")\n",
    "    time.sleep(300)"
   ]
  },
  {
   "cell_type": "code",
   "execution_count": null,
   "metadata": {},
   "outputs": [],
   "source": []
  }
 ],
 "metadata": {
  "kernelspec": {
   "display_name": "Python 3",
   "language": "python",
   "name": "python3"
  },
  "language_info": {
   "codemirror_mode": {
    "name": "ipython",
    "version": 3
   },
   "file_extension": ".py",
   "mimetype": "text/x-python",
   "name": "python",
   "nbconvert_exporter": "python",
   "pygments_lexer": "ipython3",
   "version": "3.7.4"
  }
 },
 "nbformat": 4,
 "nbformat_minor": 2
}
